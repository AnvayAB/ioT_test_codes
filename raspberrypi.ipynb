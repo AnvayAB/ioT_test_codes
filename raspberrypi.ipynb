{
 "cells": [
  {
   "cell_type": "code",
   "execution_count": null,
   "id": "8b03f505",
   "metadata": {},
   "outputs": [],
   "source": [
    "import paho.mqtt.client as mqtt\n",
    "import json\n",
    "import time\n",
    "\n",
    "# Define MQTT broker information\n",
    "broker_address = \"mqtt.eclipse.org\"\n",
    "broker_port = 1883\n",
    "topic = \"industrial/gateway/data\"\n",
    "\n",
    "# Simulated industrial data\n",
    "industrial_data = {\n",
    "    \"temperature\": 25.5,\n",
    "    \"pressure\": 1013.2,\n",
    "    \"humidity\": 50.0\n",
    "}\n",
    "\n",
    "def on_connect(client, userdata, flags, rc):\n",
    "    print(\"Connected with result code \"+str(rc))\n",
    "    client.subscribe(topic)\n",
    "\n",
    "def on_message(client, userdata, msg):\n",
    "    print(f\"Received message on topic {msg.topic}: {msg.payload}\")\n",
    "\n",
    "def publish_data(client):\n",
    "    while True:\n",
    "        industrial_data[\"timestamp\"] = int(time.time())\n",
    "        payload = json.dumps(industrial_data)\n",
    "        client.publish(topic, payload, qos=1)\n",
    "        print(f\"Published data: {payload}\")\n",
    "        time.sleep(5)\n",
    "\n",
    "if __name__ == \"__main__\":\n",
    "    # Initialize MQTT client\n",
    "    client = mqtt.Client()\n",
    "    client.on_connect = on_connect\n",
    "    client.on_message = on_message\n",
    "\n",
    "    # Connect to the broker\n",
    "    client.connect(broker_address, broker_port, 60)\n",
    "\n",
    "    # Start a background thread to handle MQTT communication\n",
    "    client.loop_start()\n",
    "\n",
    "    # Publish simulated industrial data\n",
    "    publish_data(client)"
   ]
  }
 ],
 "metadata": {
  "kernelspec": {
   "display_name": "Python 3 (ipykernel)",
   "language": "python",
   "name": "python3"
  },
  "language_info": {
   "codemirror_mode": {
    "name": "ipython",
    "version": 3
   },
   "file_extension": ".py",
   "mimetype": "text/x-python",
   "name": "python",
   "nbconvert_exporter": "python",
   "pygments_lexer": "ipython3",
   "version": "3.11.4"
  }
 },
 "nbformat": 4,
 "nbformat_minor": 5
}
