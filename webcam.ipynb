{
 "cells": [
  {
   "cell_type": "code",
   "execution_count": null,
   "id": "42b4c85c",
   "metadata": {},
   "outputs": [],
   "source": [
    "import cv2\n",
    "\n",
    "def capture_image():\n",
    "    # Open the webcam\n",
    "    cap = cv2.VideoCapture(0)\n",
    "\n",
    "    # Check if the webcam opened successfully\n",
    "    if not cap.isOpened():\n",
    "        print(\"Error opening the webcam\")\n",
    "        return\n",
    "\n",
    "    # Set the resolution (optional)\n",
    "    cap.set(cv2.CAP_PROP_FRAME_WIDTH, 640)\n",
    "    cap.set(cv2.CAP_PROP_FRAME_HEIGHT, 480)\n",
    "\n",
    "    # Capture a single frame\n",
    "    ret, frame = cap.read()\n",
    "\n",
    "    # Save the captured frame as an image\n",
    "    if ret:\n",
    "        cv2.imwrite(\"captured_image.jpg\", frame)\n",
    "        print(\"Image captured and saved as 'captured_image.jpg'\")\n",
    "    else:\n",
    "        print(\"Error capturing a frame\")\n",
    "\n",
    "    # Release the webcam\n",
    "    cap.release()\n",
    "\n",
    "if __name__ == \"__main__\":\n",
    "    capture_image()"
   ]
  },
  {
   "cell_type": "code",
   "execution_count": null,
   "id": "9e7f130b",
   "metadata": {},
   "outputs": [],
   "source": []
  }
 ],
 "metadata": {
  "kernelspec": {
   "display_name": "Python 3 (ipykernel)",
   "language": "python",
   "name": "python3"
  },
  "language_info": {
   "codemirror_mode": {
    "name": "ipython",
    "version": 3
   },
   "file_extension": ".py",
   "mimetype": "text/x-python",
   "name": "python",
   "nbconvert_exporter": "python",
   "pygments_lexer": "ipython3",
   "version": "3.11.4"
  }
 },
 "nbformat": 4,
 "nbformat_minor": 5
}
