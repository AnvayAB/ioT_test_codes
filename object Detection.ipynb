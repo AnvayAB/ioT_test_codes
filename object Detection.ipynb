{
 "cells": [
  {
   "cell_type": "code",
   "execution_count": null,
   "id": "07cd5b3c",
   "metadata": {},
   "outputs": [],
   "source": [
    "pip install torch torchvisionpip install cython\n",
    "pip install 'git+https://github.com/facebookresearch/fvcore.git'\n",
    "pip install 'git+https://github.com/cocodataset/cocoapi.git#subdirectory=PythonAPI'\n",
    "pip install detectron2\n",
    "\n",
    "import torch\n",
    "from detectron2.config import get_cfg\n",
    "from detectron2.engine import DefaultPredictor\n",
    "from detectron2.utils.visualizer import Visualizer\n",
    "from detectron2.data import MetadataCatalog, DatasetCatalog\n",
    "from detectron2.model_zoo import model_zoo\n",
    "\n",
    "def setup_cfg():\n",
    "    # Load a pre-trained HRNet model from Detectron2 model zoo\n",
    "    cfg = get_cfg()\n",
    "    cfg.merge_from_file(model_zoo.get_config_file(\"COCO-Detection/hrnet/w32_1x.yaml\"))\n",
    "    cfg.MODEL.ROI_HEADS.SCORE_THRESH_TEST = 0.5  # Set the threshold for detection\n",
    "    cfg.MODEL.WEIGHTS = model_zoo.get_checkpoint_url(\"COCO-Detection/hrnet/w32_1x.yaml\")\n",
    "    cfg.MODEL.DEVICE = \"cuda\" if torch.cuda.is_available() else \"cpu\"  # Use GPU if available\n",
    "\n",
    "    return cfg\n",
    "\n",
    "def detect_objects(image_path, cfg):\n",
    "    # Create a predictor using the configuration\n",
    "    predictor = DefaultPredictor(cfg)\n",
    "\n",
    "    # Load the input image\n",
    "    image = torch.as_tensor(image_path)\n",
    "\n",
    "    # Perform inference on the image\n",
    "    outputs = predictor(image)\n",
    "\n",
    "    # Visualize the predictions\n",
    "    v = Visualizer(image[:, :, ::-1], MetadataCatalog.get(cfg.DATASETS.TRAIN[0]), scale=1.2)\n",
    "    v = v.draw_instance_predictions(outputs[\"instances\"].to(\"cpu\"))\n",
    "    result_image = v.get_image()[:, :, ::-1]\n",
    "\n",
    "    return result_image\n",
    "\n",
    "if __name__ == \"__main__\":\n",
    "    # Setup the configuration\n",
    "    cfg = setup_cfg()\n",
    "\n",
    "    # Path to the input image\n",
    "    image_path = \"path/to/your/image.jpg\"\n",
    "\n",
    "    # Perform object detection\n",
    "    result_image = detect_objects(image_path, cfg)\n",
    "\n",
    "    # Display the result\n",
    "    import matplotlib.pyplot as plt\n",
    "\n",
    "    plt.imshow(result_image)\n",
    "    plt.axis(\"off\")\n",
    "    plt.show()\n"
   ]
  },
  {
   "cell_type": "code",
   "execution_count": null,
   "id": "936f1455",
   "metadata": {},
   "outputs": [],
   "source": []
  }
 ],
 "metadata": {
  "kernelspec": {
   "display_name": "Python 3 (ipykernel)",
   "language": "python",
   "name": "python3"
  },
  "language_info": {
   "codemirror_mode": {
    "name": "ipython",
    "version": 3
   },
   "file_extension": ".py",
   "mimetype": "text/x-python",
   "name": "python",
   "nbconvert_exporter": "python",
   "pygments_lexer": "ipython3",
   "version": "3.11.4"
  }
 },
 "nbformat": 4,
 "nbformat_minor": 5
}
